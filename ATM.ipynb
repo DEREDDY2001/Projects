{
  "nbformat": 4,
  "nbformat_minor": 0,
  "metadata": {
    "colab": {
      "provenance": [],
      "authorship_tag": "ABX9TyPtsZY4GvdNkJ+bQdKz+5W5",
      "include_colab_link": true
    },
    "kernelspec": {
      "name": "python3",
      "display_name": "Python 3"
    },
    "language_info": {
      "name": "python"
    }
  },
  "cells": [
    {
      "cell_type": "markdown",
      "metadata": {
        "id": "view-in-github",
        "colab_type": "text"
      },
      "source": [
        "<a href=\"https://colab.research.google.com/github/DEREDDY2001/Projects/blob/main/ATM.ipynb\" target=\"_parent\"><img src=\"https://colab.research.google.com/assets/colab-badge.svg\" alt=\"Open In Colab\"/></a>"
      ]
    },
    {
      "cell_type": "code",
      "execution_count": 1,
      "metadata": {
        "colab": {
          "base_uri": "https://localhost:8080/"
        },
        "id": "IxAgnDGuRm8v",
        "outputId": "80bb3a28-25c8-4c2d-daa2-2e8025a347d7"
      },
      "outputs": [
        {
          "output_type": "stream",
          "name": "stdout",
          "text": [
            "!__ATM__!\n",
            "=====WELCOME=====\n",
            "Enter your username: supriya\n",
            "Enter your password: supriya@123\n",
            "=====SUCCESSFULLY LOGGED IN=====\n",
            "Your Username: supriya\n",
            " \n",
            " \n",
            "  1. Deposit amount\n",
            "  2. Withdrawal amount\n",
            "  3. Balance Enquiry\n",
            "  4. Mini Statment\n",
            "  5. exit\n",
            "  \n",
            "Select Your Option:3\n",
            "__Balance Enquiry__\n",
            "Total Balance: 100000\n",
            "=====THANK YOU=====\n"
          ]
        }
      ],
      "source": [
        "Username = \"supriya\"\n",
        "Password = \"supriya@123\"\n",
        "print(\"!__ATM__!\")\n",
        "print(\"=====WELCOME=====\")\n",
        "Customer_name = str(input(\"Enter your username: \"))\n",
        "Customer_password = str(input(\"Enter your password: \"))\n",
        "\n",
        "if Customer_name==Username and Customer_password==Password:\n",
        "  print(\"=====SUCCESSFULLY LOGGED IN=====\")\n",
        "  print(\"Your Username:\",Username)\n",
        "  print(\" \",end=\"\\n\")\n",
        "  amount = 100000\n",
        "  print(''' \n",
        "  1. Deposit amount\n",
        "  2. Withdrawal amount\n",
        "  3. Balance Enquiry\n",
        "  4. Mini Statment\n",
        "  5. exit\n",
        "  ''')\n",
        "  option = int(input(\"Select Your Option:\"))         \n",
        "                         \n",
        "\n",
        "  if option==1:\n",
        "    print(\"__DEPOSIT__\")\n",
        "    Deposit_amount = int(input(\"Enter a amount to despoit:\"))\n",
        "    amount+=Deposit_amount\n",
        "    print(\"Deposited amount:\",Deposit_amount)\n",
        "    print(\"Total Balance:\",amount)\n",
        "    print(\"=====THANK YOU=====\")\n",
        "  elif option==2:\n",
        "    print(\"__Withdrawal__\")\n",
        "    Withdrawal_amount = int(input(\"Enter a amount to withdrawal:\"))\n",
        "    if Withdrawal_amount>amount:\n",
        "      print(\"Insufficient Balance\",amount)\n",
        "      print(\"Retry...\")\n",
        "\n",
        "    else:\n",
        "      amount-=Withdrawal_amount\n",
        "      print(\"Withdrawal amount:\",Withdrawal_amount)\n",
        "      print(\"Total Balance:\",amount)\n",
        "      print(\"=====THANK YOU=====\")\n",
        "\n",
        "  elif option==3:\n",
        "    print(\"__Balance Enquiry__\")\n",
        "    print(\"Total Balance:\",amount)\n",
        "    print(\"=====THANK YOU=====\")\n",
        "  elif option==4:\n",
        "    print(\"__Mini Statment__\")\n",
        "    print(\"Your Username:\",Username)\n",
        "    Last_Deposit = Deposit_amount\n",
        "    Last_Withdrawal = Withdrawal_amount\n",
        "    print(\"deposited:\",Last_Deposit)\n",
        "    print(\"Withdrawal:\",Last_Withdrawal)\n",
        "    print(\"Total Balance:\",amount)\n",
        "    print(\"=====THANK YOU=====\")\n",
        "  elif option==5:\n",
        "    print(\"=====THANK YOU=====\")\n",
        "    exit()\n",
        "\n",
        "else:\n",
        "  print(\"Your Username or Password is Wrong\")\n",
        "  print(\"Please Enter a valid Username and Password\")"
      ]
    }
  ]
}